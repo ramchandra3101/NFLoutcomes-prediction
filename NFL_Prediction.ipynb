{
 "cells": [
  {
   "cell_type": "code",
   "execution_count": 18,
   "id": "10303d28-61d6-4d9b-b563-4a686661e22a",
   "metadata": {
    "tags": []
   },
   "outputs": [],
   "source": [
    "import pandas\n",
    "import warnings\n",
    "warnings.filterwarnings('ignore')\n",
    "from sklearn.model_selection import train_test_split\n",
    "from sklearn.linear_model import LogisticRegression\n",
    "from sklearn import metrics\n",
    "import statistics\n"
   ]
  },
  {
   "cell_type": "code",
   "execution_count": 19,
   "id": "212f99a7-282b-4f2d-874a-19833c986db8",
   "metadata": {
    "tags": []
   },
   "outputs": [],
   "source": [
    "def z_score(mean, stdev, value):\n",
    "    return ((value - mean)/stdev)\n"
   ]
  },
  {
   "cell_type": "code",
   "execution_count": 20,
   "id": "26f08936-2c23-4a98-a3b6-8711879689d6",
   "metadata": {
    "tags": []
   },
   "outputs": [],
   "source": [
    "def calculate_INJ_score(string):\n",
    "    #print(string)\n",
    "    if string == 'BY':\n",
    "        return 0\n",
    "    answer = 0\n",
    "    value = dict()\n",
    "    #Changing the values here will alter the injury score calculation.\n",
    "    #each entry is of the form value[position] = [Position_Importance, Threshold]\n",
    "    #The Threshold is the depth chart value for which we consider a player to be important.\n",
    "    #For example, most teams only play 1 QB all game so that threshold is 1.\n",
    "    #Most teams play at least 3 WR though, so that is set to 3.\n",
    "    #Feel free to change any of these values, and do some research on positional value to try and find alternative weights here\n",
    "    value['FB'] = [1.25,1]\n",
    "    value['LT'] = [6.00,1]\n",
    "    value['RT'] = [6.00,1]\n",
    "    value['ROLB'] = [8.6,1]\n",
    "    value['LE'] = [5.9,1]\n",
    "    value['WR'] = [21.0,3]\n",
    "    value['CB'] = [26.9,4]\n",
    "    value['HB'] = [2.99,2]\n",
    "    value['QB'] = [53.3,1]\n",
    "    value['C'] = [2.53, 1]\n",
    "    value['RE'] = [5.9,1 ]\n",
    "    value['DT'] = [4.31,2]\n",
    "    value['TE'] = [5.37,1]\n",
    "    value['LOLB'] = [8.6,1]\n",
    "    value['RG'] = [4.89,1]\n",
    "    value['P'] = [0.25,1]\n",
    "    value['MLB'] = [9.86,2]\n",
    "    value['SS'] = [25.3,1]\n",
    "    value['K'] = [0.25,1]\n",
    "    value['LG'] = [4.89,1]\n",
    "    value['FS'] = [25.3,1]\n",
    "    value['Unknown'] = [5,1]\n",
    "    players = string.split('@')\n",
    "    for player in players:\n",
    "        sep = player.split(':')\n",
    "        pos = sep[0]\n",
    "        rank = int(sep[1])\n",
    "        z_ovr = 3 + float(sep[2])\n",
    "        #print(z_ovr)\n",
    "        #Square to cancel out negative numbers)\n",
    "        #print('{} {} {}'.format(pos, rank, z_ovr))\n",
    "        if z_ovr < 1:\n",
    "            z_ovr = 0\n",
    "            #This is because if a player is bad enough, his loss dosen't matter.\n",
    "            #We also don't want to count losing bad players as a net gain\n",
    "        if rank <= value[pos][1]:\n",
    "            answer += (value[pos][0]*z_ovr)\n",
    "        else:\n",
    "            answer += (value[pos][0]*(z_ovr))\n",
    "    return answer\n"
   ]
  },
  {
   "cell_type": "code",
   "execution_count": 21,
   "id": "b1bd0585-b327-4f1f-bfc7-1e4f0849acf7",
   "metadata": {
    "tags": []
   },
   "outputs": [],
   "source": [
    "def Arizona_Correct():\n",
    "    injuries = pandas.read_excel('Final Logistic Regression Data.xlsx')\n",
    "    for i in range(len(injuries)):\n",
    "        if injuries.loc()[i]['Home'] == 'ARI':\n",
    "            injuries.loc()[i,'Home'] = 'AZ'\n",
    "        if injuries.loc()[i]['Away'] == 'ARI':\n",
    "            injuries.loc()[i,'Away'] = 'AZ'\n",
    "        if injuries.loc()[i]['Winner'] == 'ARI':\n",
    "            injuries.loc()[i,'Winner'] = 'AZ'\n",
    "    injuries.to_excel('AZ Final Logistic Regression.xlsx', index = False)"
   ]
  },
  {
   "cell_type": "code",
   "execution_count": 22,
   "id": "f9756df1-69d7-4b5e-8fd4-bc7d7f8f58d5",
   "metadata": {
    "tags": []
   },
   "outputs": [],
   "source": [
    "def get_normalized_scores():\n",
    "    injuries = pandas.read_excel('Comprehensive Injury Report.xlsx')\n",
    "    output = pandas.read_excel('Final Logistic Regression Data.xlsx')\n",
    "    scores = []\n",
    "    final = dict()\n",
    "    for i in range(len(injuries)):\n",
    "        curr = injuries.loc()[i]\n",
    "        if curr['Year'] not in final:\n",
    "            final[curr['Year']] = dict()\n",
    "        if curr['Team'] not in final[curr['Year']]:\n",
    "            final[curr['Year']][curr['Team']] = dict()\n",
    "        for week in range(1,23):\n",
    "            score = calculate_INJ_score(curr[week])\n",
    "            if score != 0:\n",
    "                scores.append(score)\n",
    "    avg = statistics.mean(scores)\n",
    "    std = statistics.stdev(scores)\n",
    "    for i in range(len(injuries)):\n",
    "        curr = injuries.loc()[i]\n",
    "        curr_t = curr['Team']\n",
    "        curr_y = curr['Year']\n",
    "        for week in range(1,23):\n",
    "            score = calculate_INJ_score(curr[week])\n",
    "            if score != 0:\n",
    "                final[curr_y][curr_t][week] = (z_score(avg, std, score))\n",
    "            else:\n",
    "                final[curr_y][curr_t][week] = (100*100) #This indicates nothing - These values should never be considered anyway because the team isn't playing if InjReport is empty.\n",
    "    \n",
    "    return final"
   ]
  },
  {
   "cell_type": "code",
   "execution_count": 23,
   "id": "5b1a5415-3011-4755-a537-37dca56877aa",
   "metadata": {
    "tags": []
   },
   "outputs": [],
   "source": [
    "def get_array():\n",
    "    bible = get_normalized_scores()\n",
    "    output = pandas.read_excel('Final Logistic Regression Data.xlsx')\n",
    "    HOME = []\n",
    "    AWAY = []\n",
    "    DIFF = []\n",
    "    for i in range(len(output)):\n",
    "        curr = output.loc()[i]\n",
    "        year = curr['Year']\n",
    "        home = curr['Home']\n",
    "        away = curr['Away']\n",
    "        week = int(curr['Week'])\n",
    "        h_score = bible[year][home][week]\n",
    "        a_score = bible[year][away][week]\n",
    "        diff = h_score - a_score\n",
    "        HOME.append(h_score)\n",
    "        AWAY.append(a_score)\n",
    "        DIFF.append(diff)\n",
    "    answer = output.copy()\n",
    "    answer['Home INJ'] = HOME\n",
    "    answer['Away INJ'] = AWAY\n",
    "    answer['INJ Differential'] = DIFF\n",
    "    return answer\n",
    "    "
   ]
  },
  {
   "cell_type": "code",
   "execution_count": 25,
   "id": "f9a7673e-ac36-4737-a6f8-aabd81e13b38",
   "metadata": {
    "tags": []
   },
   "outputs": [
    {
     "name": "stdout",
     "output_type": "stream",
     "text": [
      "30 Run Avg, Two-Input Model predicts 62.53333333333333% of test games correctly\n",
      "30 Run-Avg, Two-Input Model predicts 62.409337223843266% of train games correctly\n"
     ]
    }
   ],
   "source": [
    "####It works. Now, let's import our logistic regression code and see what we get\n",
    "####This model runs LR with 2 inputs, while the next model combines the two categories into one input and runs it there\n",
    "ATP = 0\n",
    "AFP = 0\n",
    "AFN = 0\n",
    "ATN = 0\n",
    "ATTP = 0\n",
    "ATFP = 0\n",
    "ATFN = 0\n",
    "ATTN = 0\n",
    "data = get_array()\n",
    "for i in range(30):\n",
    "    X = data[['Predicted DVOA Differential','INJ Differential']]\n",
    "    y = data['Home_Won']\n",
    "    X_train, X_test, y_train, y_test = train_test_split(X, y, test_size=0.25, random_state=i)\n",
    "    # instantiate the model (using the default parameters)\n",
    "    logreg = LogisticRegression(random_state=i)\n",
    "\n",
    "    # fit the model with data\n",
    "    logreg.fit(X_train, y_train)\n",
    "\n",
    "    y_pred = logreg.predict(X_test)\n",
    "    train_y_pred = logreg.predict(X_train)\n",
    "\n",
    "    cnf_matrix = metrics.confusion_matrix(y_test, y_pred)\n",
    "    #print(cnf_matrix)\n",
    "    TP = cnf_matrix[0][0]\n",
    "    FP = cnf_matrix[0][1]\n",
    "    FN = cnf_matrix[1][0]\n",
    "    TN = cnf_matrix[1][1]\n",
    "    train_mat = metrics.confusion_matrix(y_train, train_y_pred)\n",
    "    TTP = train_mat[0][0]\n",
    "    TFP = train_mat[0][1]\n",
    "    TFN = train_mat[1][0]\n",
    "    TTN = train_mat[1][1]\n",
    "    ATP += cnf_matrix[0][0]\n",
    "    AFP += cnf_matrix[0][1]\n",
    "    AFN += cnf_matrix[1][0]\n",
    "    ATN += cnf_matrix[1][1]\n",
    "    ATTP += train_mat[0][0]\n",
    "    ATFP += train_mat[0][1]\n",
    "    ATFN += train_mat[1][0]\n",
    "    ATTN += train_mat[1][1]\n",
    "    #print('state {}, Two-Input Model predicts {}% of test games correctly'.format(i,(TP+TN)/sum([TP,FP,TN,FN])*100))\n",
    "    #print('state {}, Two-Input Model predicts {}% of train games correctly'.format(i,(TTP+TTN)/sum([TTP,TFP,TTN,TFN])*100))\n",
    "print('{} Run Avg, Two-Input Model predicts {}% of test games correctly'.format(i+1,(ATP+ATN)/sum([ATP,AFP,ATN,AFN])*100))\n",
    "print('{} Run-Avg, Two-Input Model predicts {}% of train games correctly'.format(i+1,(ATTP+ATTN)/sum([ATTP,ATFP,ATTN,ATFN])*100))\n",
    "\n"
   ]
  },
  {
   "cell_type": "code",
   "execution_count": 24,
   "id": "45778c39-f3f0-44a0-9bc2-d69713ecc638",
   "metadata": {
    "tags": []
   },
   "outputs": [
    {
     "name": "stdout",
     "output_type": "stream",
     "text": [
      "30 Run Avg, One-Input Model predicts 57.2625% of test games correctly\n",
      "30 Run-Avg, One-Input Model predicts 56.87508684173961% of train games correctly\n"
     ]
    }
   ],
   "source": [
    "###Now let's try for a one input model\n",
    "###This model combines two variables into a single input score, and then runs LR.\n",
    "###As you'll see when you run it, it performs much worse.\n",
    "ATP = 0\n",
    "AFP = 0\n",
    "AFN = 0\n",
    "ATN = 0\n",
    "ATTP = 0\n",
    "ATFP = 0\n",
    "ATFN = 0\n",
    "ATTN = 0\n",
    "data_2 = get_array()\n",
    "COMBINED = []\n",
    "a = 0.75  # Changing this alpha value from a decimal in the range(0,1) will change how much each variable impacts the final single variable.\n",
    "###a = 1 means this is just Predicted DVOA Differential\n",
    "###a = 0 means this is just INJ Differential\n",
    "###The model preforms poorly, similar to just using INJ Differential, for values of a not close to 1\n",
    "for i in range(len(data_2)):\n",
    "    P1 = data_2.loc()[i]['Predicted DVOA Differential']\n",
    "    P2 = data_2.loc()[i]['INJ Differential']\n",
    "    metric = (a*P1) + ((1-a)*P2)\n",
    "    COMBINED.append(metric)\n",
    "data_2['Var'] = COMBINED\n",
    "for i in range(30):\n",
    "    X = data_2['Var'].array.reshape(-1,1)\n",
    "    y = data_2['Home_Won']\n",
    "    X_train, X_test, y_train, y_test = train_test_split(X, y, test_size=0.25, random_state=i)\n",
    "    # instantiate the model (using the default parameters)\n",
    "    logreg = LogisticRegression(random_state=i)\n",
    "\n",
    "    # fit the model with data\n",
    "    logreg.fit(X_train, y_train)\n",
    "\n",
    "    y_pred = logreg.predict(X_test)\n",
    "    train_y_pred = logreg.predict(X_train)\n",
    "\n",
    "    cnf_matrix = metrics.confusion_matrix(y_test, y_pred)\n",
    "    #print(cnf_matrix)\n",
    "    TP = cnf_matrix[0][0]\n",
    "    FP = cnf_matrix[0][1]\n",
    "    FN = cnf_matrix[1][0]\n",
    "    TN = cnf_matrix[1][1]\n",
    "    train_mat = metrics.confusion_matrix(y_train, train_y_pred)\n",
    "    TTP = train_mat[0][0]\n",
    "    TFP = train_mat[0][1]\n",
    "    TFN = train_mat[1][0]\n",
    "    TTN = train_mat[1][1]\n",
    "    ATP += cnf_matrix[0][0]\n",
    "    AFP += cnf_matrix[0][1]\n",
    "    AFN += cnf_matrix[1][0]\n",
    "    ATN += cnf_matrix[1][1]\n",
    "    ATTP += train_mat[0][0]\n",
    "    ATFP += train_mat[0][1]\n",
    "    ATFN += train_mat[1][0]\n",
    "    ATTN += train_mat[1][1]\n",
    "    #print('state {}, One-Input Model predicts {}% of test games correctly'.format(i,(TP+TN)/sum([TP,FP,TN,FN])*100))\n",
    "    #print('state {}, One-Input Model predicts {}% of train games correctly'.format(i,(TTP+TTN)/sum([TTP,TFP,TTN,TFN])*100))\n",
    "print('{} Run Avg, One-Input Model predicts {}% of test games correctly'.format(i+1,(ATP+ATN)/sum([ATP,AFP,ATN,AFN])*100))\n",
    "print('{} Run-Avg, One-Input Model predicts {}% of train games correctly'.format(i+1,(ATTP+ATTN)/sum([ATTP,ATFP,ATTN,ATFN])*100))\n"
   ]
  },
  {
   "cell_type": "code",
   "execution_count": 26,
   "id": "8ada9c53-8d54-4820-b90d-207ef2db015f",
   "metadata": {
    "tags": []
   },
   "outputs": [
    {
     "name": "stdout",
     "output_type": "stream",
     "text": [
      "30 Run Avg, INJ-Differential predicts 57.25833333333333% of test games correctly\n",
      "30 Run-Avg, INJ-Differential predicts 56.87925524524107% of train games correctly\n"
     ]
    }
   ],
   "source": [
    "#Finally, we set up a model to test the effectiveness of our injury score metric\n",
    "#This one only runs LogReg on the injury score variable. It is only for testing out how well we are tuning parameters.\n",
    "ATP = 0\n",
    "AFP = 0\n",
    "AFN = 0\n",
    "ATN = 0\n",
    "ATTP = 0\n",
    "ATFP = 0\n",
    "ATFN = 0\n",
    "ATTN = 0\n",
    "for i in range(30):\n",
    "    X = data_2['INJ Differential'].array.reshape(-1,1)\n",
    "    y = data_2['Home_Won']\n",
    "    X_train, X_test, y_train, y_test = train_test_split(X, y, test_size=0.25, random_state=i)\n",
    "    # instantiate the model (using the default parameters)\n",
    "    logreg = LogisticRegression(random_state=i)\n",
    "\n",
    "    # fit the model with data\n",
    "    logreg.fit(X_train, y_train)\n",
    "\n",
    "    y_pred = logreg.predict(X_test)\n",
    "    train_y_pred = logreg.predict(X_train)\n",
    "\n",
    "    cnf_matrix = metrics.confusion_matrix(y_test, y_pred)\n",
    "    #print(cnf_matrix)\n",
    "    TP = cnf_matrix[0][0]\n",
    "    FP = cnf_matrix[0][1]\n",
    "    FN = cnf_matrix[1][0]\n",
    "    TN = cnf_matrix[1][1]\n",
    "    train_mat = metrics.confusion_matrix(y_train, train_y_pred)\n",
    "    TTP = train_mat[0][0]\n",
    "    TFP = train_mat[0][1]\n",
    "    TFN = train_mat[1][0]\n",
    "    TTN = train_mat[1][1]\n",
    "    ATP += cnf_matrix[0][0]\n",
    "    AFP += cnf_matrix[0][1]\n",
    "    AFN += cnf_matrix[1][0]\n",
    "    ATN += cnf_matrix[1][1]\n",
    "    ATTP += train_mat[0][0]\n",
    "    ATFP += train_mat[0][1]\n",
    "    ATFN += train_mat[1][0]\n",
    "    ATTN += train_mat[1][1]\n",
    "    #print('state {}, One-Input Model predicts {}% of test games correctly'.format(i,(TP+TN)/sum([TP,FP,TN,FN])*100))\n",
    "    #print('state {}, One-Input Model predicts {}% of train games correctly'.format(i,(TTP+TTN)/sum([TTP,TFP,TTN,TFN])*100))\n",
    "print('{} Run Avg, INJ-Differential predicts {}% of test games correctly'.format(i+1,(ATP+ATN)/sum([ATP,AFP,ATN,AFN])*100))\n",
    "print('{} Run-Avg, INJ-Differential predicts {}% of train games correctly'.format(i+1,(ATTP+ATTN)/sum([ATTP,ATFP,ATTN,ATFN])*100))\n"
   ]
  },
  {
   "cell_type": "code",
   "execution_count": null,
   "id": "95a032b1-aa14-4767-83e9-64b1c6458dab",
   "metadata": {},
   "outputs": [],
   "source": []
  }
 ],
 "metadata": {
  "kernelspec": {
   "display_name": "Python 3 (ipykernel)",
   "language": "python",
   "name": "python3"
  },
  "language_info": {
   "codemirror_mode": {
    "name": "ipython",
    "version": 3
   },
   "file_extension": ".py",
   "mimetype": "text/x-python",
   "name": "python",
   "nbconvert_exporter": "python",
   "pygments_lexer": "ipython3",
   "version": "3.11.5"
  }
 },
 "nbformat": 4,
 "nbformat_minor": 5
}
